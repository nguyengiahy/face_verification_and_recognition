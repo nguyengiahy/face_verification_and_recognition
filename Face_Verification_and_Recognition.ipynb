{
  "nbformat": 4,
  "nbformat_minor": 0,
  "metadata": {
    "colab": {
      "name": "Face_Verification_and_Recognition.ipynb",
      "provenance": [],
      "collapsed_sections": []
    },
    "kernelspec": {
      "name": "python3",
      "display_name": "Python 3"
    },
    "language_info": {
      "name": "python"
    }
  },
  "cells": [
    {
      "cell_type": "code",
      "source": [
        "!unzip keras-facenet-h5.zip"
      ],
      "metadata": {
        "id": "VwkLacWCjkVq"
      },
      "execution_count": null,
      "outputs": []
    },
    {
      "cell_type": "code",
      "source": [
        "!unzip images.zip"
      ],
      "metadata": {
        "id": "AoYAFA_FjnPD"
      },
      "execution_count": null,
      "outputs": []
    },
    {
      "cell_type": "markdown",
      "source": [
        "# Triplet Loss\n",
        "Loss of a single triplet:\n",
        "\n",
        "$$\n",
        "||f\\left(A^{(i)}\\right)-f\\left(P^{(i)}\\right)||_{2}^{2}+\\alpha<||f\\left(A^{(i)}\\right)-f\\left(N^{(i)}\\right)||_{2}^{2}\n",
        "$$\n",
        "\n",
        "Overall Triplet Loss:\n",
        "\n",
        "$$\n",
        "J = \\sum^m_{i=1} \\mathcal{max}\\left(\\underbrace{\\large\\mid\\mid f(A^{(i)}) - f(P^{(i)}) \\large\\mid\\mid^2_2}_\\text{(1)} - \\underbrace{\\large\\mid\\mid f(A^{(i)}) - f(N^{(i)}) \\large\\mid\\mid^2_2}_\\text{(2)} + \\alpha, 0\\right) \\tag{3}\n",
        "$$\n",
        "\n",
        "**Notes**:\n",
        "- The term (1) is the squared distance between the anchor \"A\" and the positive \"P\" for a given triplet; we want this to be small.\n",
        "- The term (2) is the squared distance between the anchor \"A\" and the negative \"N\" for a given triplet, we want this to be large.\n",
        "- $\\alpha$ is called the margin. It's a hyperparameter that you pick manually. We'll use $\\alpha = 0.2$."
      ],
      "metadata": {
        "id": "rAA-POjlQaaj"
      }
    },
    {
      "cell_type": "code",
      "source": [
        "def triplet_loss(y_true, y_pred, alpha=0.2):\n",
        "  '''\n",
        "  Implementation of the triplet loss as defined by formula (3)\n",
        "\n",
        "  Arguments:\n",
        "  y_true -- true labels, required when defining a loss in Keras, we don't need it in this function.\n",
        "  y_pred -- python list containing three objects:\n",
        "          anchor -- the encodings for the anchor images, of shape (m, 128)\n",
        "          positive -- the encodings for the positive images, of shape (m, 128)\n",
        "          negative -- the encodings for the negative images, of shape (m, 128)\n",
        "  \n",
        "  Returns:\n",
        "  loss -- real number, value of the loss\n",
        "  '''\n",
        "  anchor, positive, negative = y_pred[0], y_pred[1], y_pred[2]\n",
        "  \n",
        "  # Compute the (encoding) distance between the anchor and the positive\n",
        "  pos_dist = tf.subtract(anchor, positive)        # (m, 128)\n",
        "  pos_dist = tf.square(pos_dist)                  # (m, 128)\n",
        "  pos_dist = tf.reduce_sum(pos_dist, axis=-1)     # (m, 1)\n",
        "\n",
        "  # Compute the (encoding) distance between the anchor and the negative\n",
        "  neg_dist = tf.subtract(anchor, negative)        # (m, 128)\n",
        "  neg_dist = tf.square(neg_dist)                  # (m, 128)\n",
        "  neg_dist = tf.reduce_sum(neg_dist, axis=-1)     # (m, 1)\n",
        "\n",
        "  # Calculate loss for each individual triplet\n",
        "  loss = tf.subtract(pos_dist, neg_dist)          # (m, 1)\n",
        "  loss = tf.add(loss, alpha)                      # (m, 1)\n",
        "  loss = tf.maximum(loss, 0)                      # (m, 1)\n",
        "\n",
        "  # Calculate the Overall Triplet Loss (formula 3 above) by adding all individual triplet loss\n",
        "  loss = tf.reduce_sum(loss)                      # (1)\n",
        "\n",
        "  return loss"
      ],
      "metadata": {
        "id": "HweQHk-WDwB0"
      },
      "execution_count": 3,
      "outputs": []
    },
    {
      "cell_type": "markdown",
      "source": [
        "# Load model\n",
        "Load the pretrained FaceNet model"
      ],
      "metadata": {
        "id": "QqMXKx1AOnlb"
      }
    },
    {
      "cell_type": "code",
      "execution_count": 6,
      "metadata": {
        "id": "r7gHXnJ_NeJ9"
      },
      "outputs": [],
      "source": [
        "import tensorflow as tf\n",
        "\n",
        "json_file = open('keras-facenet-h5/model.json', 'r')            # Open the file that contains the FaceNet's structure\n",
        "model_json = json_file.read()\n",
        "json_file.close()\n",
        "model = tf.keras.models.model_from_json(model_json)             # Load the FaceNet structure\n",
        "model.load_weights('keras-facenet-h5/model.h5')         # Load weights of the pretrained FaceNet"
      ]
    },
    {
      "cell_type": "code",
      "source": [
        "# Visualize model's input and output tensors\n",
        "print(model.inputs)\n",
        "print(model.outputs)"
      ],
      "metadata": {
        "id": "2i4-8lKJQGMR",
        "colab": {
          "base_uri": "https://localhost:8080/"
        },
        "outputId": "310b92ab-741c-4e4e-e309-de4112fdc82b"
      },
      "execution_count": 7,
      "outputs": [
        {
          "output_type": "stream",
          "name": "stdout",
          "text": [
            "[<KerasTensor: shape=(None, 160, 160, 3) dtype=float32 (created by layer 'input_1')>]\n",
            "[<KerasTensor: shape=(None, 128) dtype=float32 (created by layer 'Bottleneck_BatchNorm')>]\n"
          ]
        }
      ]
    },
    {
      "cell_type": "markdown",
      "source": [
        "# Face Verification"
      ],
      "metadata": {
        "id": "yfF0GLvWI9B1"
      }
    },
    {
      "cell_type": "code",
      "source": [
        "import numpy as np\n",
        "\n",
        "def img_to_encoding(image_path, model):\n",
        "  # Load image with size (160, 160, 3) because FaceNet requires input with that shape\n",
        "  img = tf.keras.preprocessing.image.load_img(image_path, target_size=(160, 160))     # (160, 160, 3)\n",
        "  img = np.array(img) / 255.                # (160, 160, 3)\n",
        "  img = np.expand_dims(img, axis=0)         # (1, 160, 160, 3)\n",
        "  embedding = model.predict(img)            # (1, 128)\n",
        "  embedding = embedding / np.linalg.norm(embedding, ord=2)    # Normalize data with L2 norm, data will be in between -1..1\n",
        "  return embedding                          # (1, 128)"
      ],
      "metadata": {
        "id": "itvoonufI5bp"
      },
      "execution_count": 9,
      "outputs": []
    },
    {
      "cell_type": "markdown",
      "source": [
        "Create a database containing one encoding vector for each person who is allowed to enter the office"
      ],
      "metadata": {
        "id": "eEV-z19QSk54"
      }
    },
    {
      "cell_type": "code",
      "source": [
        "database = {}\n",
        "database[\"danielle\"] = img_to_encoding(\"images/danielle.png\", model)\n",
        "database[\"younes\"] = img_to_encoding(\"images/younes.jpg\", model)\n",
        "database[\"tian\"] = img_to_encoding(\"images/tian.jpg\", model)\n",
        "database[\"andrew\"] = img_to_encoding(\"images/andrew.jpg\", model)\n",
        "database[\"kian\"] = img_to_encoding(\"images/kian.jpg\", model)\n",
        "database[\"dan\"] = img_to_encoding(\"images/dan.jpg\", model)\n",
        "database[\"sebastiano\"] = img_to_encoding(\"images/sebastiano.jpg\", model)\n",
        "database[\"bertrand\"] = img_to_encoding(\"images/bertrand.jpg\", model)\n",
        "database[\"kevin\"] = img_to_encoding(\"images/kevin.jpg\", model)\n",
        "database[\"felix\"] = img_to_encoding(\"images/felix.jpg\", model)\n",
        "database[\"benoit\"] = img_to_encoding(\"images/benoit.jpg\", model)\n",
        "database[\"arnaud\"] = img_to_encoding(\"images/arnaud.jpg\", model)"
      ],
      "metadata": {
        "id": "k91Eut28SLwn"
      },
      "execution_count": 10,
      "outputs": []
    },
    {
      "cell_type": "markdown",
      "source": [
        "Visualize an image and it's encoding data:"
      ],
      "metadata": {
        "id": "ORKMgTp_S5JR"
      }
    },
    {
      "cell_type": "code",
      "source": [
        "import matplotlib.pyplot as plt\n",
        "# Load image\n",
        "kian = tf.keras.preprocessing.image.load_img(\"images/kian.jpg\", target_size=(160, 160))\n",
        "# Show image\n",
        "plt.imshow(kian)\n",
        "# Show encoding\n",
        "print(database[\"kian\"])"
      ],
      "metadata": {
        "colab": {
          "base_uri": "https://localhost:8080/",
          "height": 651
        },
        "id": "hVzqKRJQSyX_",
        "outputId": "a74899fe-19e1-4243-da8a-8c59d7e1ec6f"
      },
      "execution_count": 11,
      "outputs": [
        {
          "output_type": "stream",
          "name": "stdout",
          "text": [
            "[[-0.11412552 -0.10340776 -0.07809163 -0.03147605 -0.01763922 -0.06523111\n",
            "   0.02861117  0.00100274  0.01058621 -0.05922046  0.09836756 -0.06435186\n",
            "  -0.01190542 -0.06467694 -0.03796401  0.03856453  0.09536588 -0.02357571\n",
            "   0.07657545 -0.20027392 -0.07989764 -0.03543159  0.03685693  0.09584758\n",
            "   0.06027052  0.10280188  0.12235796  0.06458879 -0.02108122 -0.04849022\n",
            "  -0.10610185  0.03471624 -0.07026923  0.06191644  0.10131975  0.01215316\n",
            "   0.10428248  0.13829617  0.16360596 -0.01910017  0.00289524  0.07391544\n",
            "   0.12145932 -0.00237989 -0.0067809   0.00171467  0.08047131 -0.18473281\n",
            "   0.03718753  0.02368629 -0.10578794  0.12779142  0.10795481 -0.12782809\n",
            "  -0.0350916   0.2331874   0.03107373  0.06983364  0.10987096 -0.03419939\n",
            "   0.02939631  0.08816052 -0.12732442  0.05641903  0.025166    0.16943584\n",
            "   0.04541108  0.13167255 -0.12617192  0.02680608  0.09747158  0.06851086\n",
            "   0.03508799 -0.15570861  0.02271422  0.07789656 -0.0305734   0.07732681\n",
            "  -0.17041749 -0.14048794 -0.10063326  0.02330275 -0.08078125  0.00389176\n",
            "   0.02953989 -0.02417772  0.02415596 -0.02682066 -0.1242717  -0.05730312\n",
            "   0.075161   -0.03735032 -0.07542294 -0.03105415  0.05149166  0.00256121\n",
            "  -0.0883602  -0.04085943 -0.09443006  0.00862189  0.06606847  0.01950364\n",
            "   0.10551732 -0.18869697 -0.00638168  0.09425355  0.01763785 -0.07105212\n",
            "  -0.05878296 -0.03717931  0.09722754  0.07961024  0.11736833  0.08366766\n",
            "  -0.02803677  0.05398036 -0.05640204  0.07110717 -0.0184022   0.18729614\n",
            "   0.02008064 -0.02196504  0.16961013  0.02195123  0.06357769 -0.10590805\n",
            "   0.2695337  -0.07684874]]\n"
          ]
        },
        {
          "output_type": "display_data",
          "data": {
            "text/plain": [
              "<Figure size 432x288 with 1 Axes>"
            ],
            "image/png": "[encoded data removed]"
          },
          "metadata": {
            "needs_background": "light"
          }
        }
      ]
    },
    {
      "cell_type": "code",
      "source": [
        "def verify(image_path, identity, database, model, threshold=0.7):\n",
        "  \"\"\"\n",
        "  Function that verifies if the person on the \"image_path\" image is \"identity\".\n",
        "  \n",
        "  Arguments:\n",
        "      image_path -- path to an image\n",
        "      identity -- string, name of the person you'd like to verify the identity. Has to be an employee who works in the office.\n",
        "      database -- python dictionary mapping names of allowed people's names (strings) to their encodings (vectors).\n",
        "      model -- your FaceNet model\n",
        "      threshold -- float, the threshold to accept if an image's encoding is similar to the data in the database\n",
        "  \n",
        "  Returns:\n",
        "      dist -- distance between the image_path and the image of \"identity\" in the database.\n",
        "      door_open -- True, if the door should open. False otherwise.\n",
        "  \"\"\"\n",
        "  encoding = img_to_encoding(image_path, model)\n",
        "  dist = np.linalg.norm(encoding - database[identity])\n",
        "  if dist < threshold:\n",
        "    print(\"It's \" + str(identity) + \", welcome in!\")\n",
        "    door_open = True\n",
        "  else:\n",
        "    print(\"It's not \" + str(identity) + \", please go away\")\n",
        "    door_open = False\n",
        "\n",
        "  return dist, door_open"
      ],
      "metadata": {
        "id": "0PI-7STCTXA7"
      },
      "execution_count": 12,
      "outputs": []
    },
    {
      "cell_type": "markdown",
      "source": [
        "Test the system:"
      ],
      "metadata": {
        "id": "3Nn2mjiRafhh"
      }
    },
    {
      "cell_type": "code",
      "source": [
        "# We feed in the image \"camera_1.jpg\", which is an image of Bertrand\n",
        "# Then we test if the system can recognize it is Bertrand's image\n",
        "dist, door_open = verify(\"images/camera_1.jpg\", \"bertrand\", database, model)\n",
        "print(f\"Distance: {dist}\")\n",
        "print(f\"Door open: {door_open}\")"
      ],
      "metadata": {
        "colab": {
          "base_uri": "https://localhost:8080/"
        },
        "id": "cDvweObYZbtT",
        "outputId": "51081696-e6dd-4f23-b522-13c216f31c93"
      },
      "execution_count": 13,
      "outputs": [
        {
          "output_type": "stream",
          "name": "stdout",
          "text": [
            "It's bertrand, welcome in!\n",
            "Distance: 0.5436483025550842\n",
            "Door open: True\n"
          ]
        }
      ]
    },
    {
      "cell_type": "code",
      "source": [
        "# Now we feed in the image \"camera_0.jpg\", which is an image of Younes. Let's see if the system can prevent Younes from trying to logging in under Bertrand's identity\n",
        "dist, door_open = verify(\"images/camera_0.jpg\", \"bertrand\", database, model)\n",
        "print(f\"Distance: {dist}\")\n",
        "print(f\"Door open: {door_open}\")"
      ],
      "metadata": {
        "colab": {
          "base_uri": "https://localhost:8080/"
        },
        "id": "f7GnlMkGa86b",
        "outputId": "10081ac1-a575-4b10-bde3-c1726e2c0ede"
      },
      "execution_count": 17,
      "outputs": [
        {
          "output_type": "stream",
          "name": "stdout",
          "text": [
            "It's not bertrand, please go away\n",
            "Distance: 1.4408819675445557\n",
            "Door open: False\n"
          ]
        }
      ]
    },
    {
      "cell_type": "markdown",
      "source": [
        "# Face Recognition"
      ],
      "metadata": {
        "id": "exva4QCHbUlb"
      }
    },
    {
      "cell_type": "code",
      "source": [
        "def who_is_it(image_path, database, model, threshold=0.7):\n",
        "  '''\n",
        "  Implements face recognition for the office by finding who is the person on the image_path image.\n",
        "    \n",
        "  Arguments:\n",
        "      image_path -- path to an image\n",
        "      database -- database containing image encodings along with the name of the person on the image\n",
        "      model -- your Inception model instance in Keras\n",
        "      threshold -- threshold to trigger if that person is found in the database\n",
        "  \n",
        "  Returns:\n",
        "      min_dist -- the minimum distance between image_path encoding and the encodings from the database\n",
        "      identity -- string, the name prediction for the person on image_path\n",
        "  '''\n",
        "  encoding = img_to_encoding(image_path, model)\n",
        "  min_dist = 100\n",
        "  for (name, db_encoding) in database.items():\n",
        "    # Compute L2 distance between the target \"encoding\" and the current db_encoding from the database.\n",
        "    dist = np.linalg.norm(encoding - db_encoding)\n",
        "\n",
        "    # If this distance is less than the min_dist, then set min_dist to dist, and identity to name\n",
        "    if dist < min_dist:\n",
        "      min_dist = dist\n",
        "      identity = name\n",
        "  \n",
        "  if min_dist < threshold:\n",
        "    print (\"It's \" + str(identity) + \", the distance is \" + str(min_dist))\n",
        "  else:\n",
        "    print(\"Not in the database.\")\n",
        "  \n",
        "  return min_dist, identity"
      ],
      "metadata": {
        "id": "Df3nb4LQbVdR"
      },
      "execution_count": 22,
      "outputs": []
    },
    {
      "cell_type": "markdown",
      "source": [
        "Test the system:"
      ],
      "metadata": {
        "id": "5aPaxksqi_cw"
      }
    },
    {
      "cell_type": "code",
      "source": [
        "who_is_it(\"images/camera_0.jpg\", database, model)     # Should print out Younes"
      ],
      "metadata": {
        "colab": {
          "base_uri": "https://localhost:8080/"
        },
        "id": "f3knRhTliqE0",
        "outputId": "84fb2f7f-07e7-4f43-e4a1-9a54b83c8daf"
      },
      "execution_count": 23,
      "outputs": [
        {
          "output_type": "stream",
          "name": "stdout",
          "text": [
            "It's younes, the distance is 0.59929454\n"
          ]
        },
        {
          "output_type": "execute_result",
          "data": {
            "text/plain": [
              "(0.59929454, 'younes')"
            ]
          },
          "metadata": {},
          "execution_count": 23
        }
      ]
    },
    {
      "cell_type": "code",
      "source": [
        "who_is_it(\"images/camera_1.jpg\", database, model)     # Should print out Bertrand"
      ],
      "metadata": {
        "colab": {
          "base_uri": "https://localhost:8080/"
        },
        "id": "K9G5WxZ8jJO9",
        "outputId": "31c0e739-1df6-4b56-ae1e-fbe6027e8654"
      },
      "execution_count": 24,
      "outputs": [
        {
          "output_type": "stream",
          "name": "stdout",
          "text": [
            "It's bertrand, the distance is 0.5436483\n"
          ]
        },
        {
          "output_type": "execute_result",
          "data": {
            "text/plain": [
              "(0.5436483, 'bertrand')"
            ]
          },
          "metadata": {},
          "execution_count": 24
        }
      ]
    }
  ]
}